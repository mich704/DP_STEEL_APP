{
 "cells": [
  {
   "cell_type": "code",
   "execution_count": 2,
   "metadata": {},
   "outputs": [
    {
     "name": "stdout",
     "output_type": "stream",
     "text": [
      "Original path: C:\\Users\\Michal\\Desktop\\DP-STEEL-AI_v2\\storage\\images\\LABELLED_DATA\\microstructure_classification\\DP_STEEL\\w_S-107_001DH090901_10°C_s_400x_ob1_2763.JPG\n",
      "New path: C:\\Users\\Michal\\Desktop\\DP-STEEL-AI_v2\\storage\\images\\LABELLED_DATA\\microstructure_classification\\DP_STEEL\\w_S-107_001DH090901_10_deg_C_s_400x_ob1_2763.JPG\n"
     ]
    }
   ],
   "source": [
    "import os\n",
    "\n",
    "def replace_degree_symbol(path):\n",
    "    # Replace degree symbol with \"_deg_\"\n",
    "    new_path = path.replace(\"°\", \"_deg_\")\n",
    "    return new_path\n",
    "\n",
    "# Example usage\n",
    "original_path = 'C:\\\\Users\\\\Michal\\\\Desktop\\\\DP-STEEL-AI_v2\\\\storage\\\\images\\\\LABELLED_DATA\\\\microstructure_classification\\\\DP_STEEL\\\\w_S-107_001DH090901_10°C_s_400x_ob1_2763.JPG'\n",
    "new_path = replace_degree_symbol(original_path)\n",
    "print(\"Original path:\", original_path)\n",
    "print(\"New path:\", new_path)\n"
   ]
  }
 ],
 "metadata": {
  "kernelspec": {
   "display_name": "Python 3",
   "language": "python",
   "name": "python3"
  },
  "language_info": {
   "codemirror_mode": {
    "name": "ipython",
    "version": 3
   },
   "file_extension": ".py",
   "mimetype": "text/x-python",
   "name": "python",
   "nbconvert_exporter": "python",
   "pygments_lexer": "ipython3",
   "version": "3.11.6"
  }
 },
 "nbformat": 4,
 "nbformat_minor": 2
}
